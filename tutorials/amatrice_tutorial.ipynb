{
 "cells": [
  {
   "cell_type": "markdown",
   "metadata": {},
   "source": [
    "# SpecUFEx Tutorial: The Geysers, California\n",
    "\n",
    "Written by Theresa Sawi and Nate Groebner\n",
    "\n",
    "Based on the study **Machine learning reveals cyclic changes in seismic source spectra in Geysers geothermal field** by Holtzman et al., 2018. DOI 10.1126/sciadv.aao2929\n",
    "\n",
    "This example walks through fitting a SpecUFEx model to seismograms of approximately 5,000 microearthquakes from The Geysers geothermal field in California from 2012 to 2014. This is a subset of the 46,000 events that were analyzed in the study above. Using the features extracted by SpecUFEx, k-means clustering identifies 4 clusters of earthquake patterns that are correlated to rate of water flow into the injection wells.\n",
    "\n",
    "## Tutorial Steps\n",
    "\n",
    "1. Read in waveforms from hdf5 file.\n",
    "2. Convert waveforms to spectrograms (filtered and median normalized)\n",
    "3. Run SpecUFEx on spectrograms: Nonnegative matrix factorization followed by hidden markov model\n",
    "4. Do kmeans clustering on SpecUFEx fingerprints\n",
    "5. Compare clusters to paper figure 3c\n",
    "\n"
   ]
  },
  {
   "cell_type": "markdown",
   "metadata": {},
   "source": [
    "### Imports"
   ]
  },
  {
   "cell_type": "code",
   "execution_count": 24,
   "metadata": {},
   "outputs": [],
   "source": [
    "import datetime\n",
    "from datetime import datetime\n",
    "import glob\n",
    "import os\n",
    "import h5py\n",
    "from matplotlib import pyplot as plt\n",
    "from matplotlib import cm\n",
    "import numpy as np\n",
    "import pandas as pd\n",
    "from io import StringIO\n",
    "import scipy.signal as sp\n",
    "from sklearn.cluster import KMeans\n",
    "import seaborn as sns\n",
    "from tqdm import trange\n",
    "import obspy\n",
    "from specufex import BayesianNonparametricNMF, BayesianHMM"
   ]
  },
  {
   "cell_type": "markdown",
   "metadata": {},
   "source": [
    "## Load H5"
   ]
  },
  {
   "cell_type": "code",
   "execution_count": 81,
   "metadata": {},
   "outputs": [
    {
     "name": "stdout",
     "output_type": "stream",
     "text": [
      "  % Total    % Received % Xferd  Average Speed   Time    Time     Time  Current\n",
      "                                 Dload  Upload   Total   Spent    Left  Speed\n",
      "100   261    0   261    0     0    113      0 --:--:--  0:00:02 --:--:--   113\n"
     ]
    }
   ],
   "source": [
    "# ! curl -O \"https://www.dropbox.com/scl/fi/8yyktabw4d4a5lsix8kjd/waveforms.h5?rlkey=s4a4gcx4tsdmfi46r6tqi49fy&dl=1\""
   ]
  },
  {
   "cell_type": "code",
   "execution_count": 97,
   "metadata": {},
   "outputs": [],
   "source": [
    "with h5py.File(\"./data/amatrice/waveforms.h5\", \"r\") as h5fi:\n",
    "\n",
    "\n",
    "    waveforms = h5fi[\"waveforms\"][()]\n",
    "    event_ids = h5fi[\"event_ids\"][()]       \n",
    "    otime = h5fi[\"otime\"][()]   \n",
    "    lat = h5fi[\"lat\"][()] \n",
    "    lon = h5fi[\"lon\"][()] \n",
    "    \n",
    "    \n",
    "  \n"
   ]
  },
  {
   "cell_type": "code",
   "execution_count": 98,
   "metadata": {},
   "outputs": [
    {
     "data": {
      "text/html": [
       "<div>\n",
       "<style scoped>\n",
       "    .dataframe tbody tr th:only-of-type {\n",
       "        vertical-align: middle;\n",
       "    }\n",
       "\n",
       "    .dataframe tbody tr th {\n",
       "        vertical-align: top;\n",
       "    }\n",
       "\n",
       "    .dataframe thead th {\n",
       "        text-align: right;\n",
       "    }\n",
       "</style>\n",
       "<table border=\"1\" class=\"dataframe\">\n",
       "  <thead>\n",
       "    <tr style=\"text-align: right;\">\n",
       "      <th></th>\n",
       "      <th>event_ID</th>\n",
       "      <th>lat</th>\n",
       "      <th>lon</th>\n",
       "      <th>otime</th>\n",
       "      <th>waveform</th>\n",
       "    </tr>\n",
       "  </thead>\n",
       "  <tbody>\n",
       "    <tr>\n",
       "      <th>0</th>\n",
       "      <td>100033</td>\n",
       "      <td>42.7940</td>\n",
       "      <td>13.2150</td>\n",
       "      <td>2016-10-13 00:12:15.130</td>\n",
       "      <td>[1524.3596168260733, 1583.3591904608486, 1539....</td>\n",
       "    </tr>\n",
       "    <tr>\n",
       "      <th>1</th>\n",
       "      <td>100369</td>\n",
       "      <td>42.6878</td>\n",
       "      <td>13.2390</td>\n",
       "      <td>2016-10-13 02:23:57.850</td>\n",
       "      <td>[854.4692663792318, 820.4688400140071, 862.468...</td>\n",
       "    </tr>\n",
       "    <tr>\n",
       "      <th>2</th>\n",
       "      <td>100890</td>\n",
       "      <td>42.6380</td>\n",
       "      <td>13.2107</td>\n",
       "      <td>2016-10-13 06:17:15.350</td>\n",
       "      <td>[260.67179135628203, 243.6713649910572, 258.67...</td>\n",
       "    </tr>\n",
       "    <tr>\n",
       "      <th>3</th>\n",
       "      <td>101065</td>\n",
       "      <td>42.6965</td>\n",
       "      <td>13.1633</td>\n",
       "      <td>2016-10-13 07:48:10.250</td>\n",
       "      <td>[662.0511884286011, 720.0507620633766, 674.050...</td>\n",
       "    </tr>\n",
       "    <tr>\n",
       "      <th>4</th>\n",
       "      <td>101597</td>\n",
       "      <td>42.9422</td>\n",
       "      <td>13.1278</td>\n",
       "      <td>2016-10-13 12:51:22.310</td>\n",
       "      <td>[-2575.7540207111306, -2623.754447076355, -252...</td>\n",
       "    </tr>\n",
       "    <tr>\n",
       "      <th>...</th>\n",
       "      <td>...</td>\n",
       "      <td>...</td>\n",
       "      <td>...</td>\n",
       "      <td>...</td>\n",
       "      <td>...</td>\n",
       "    </tr>\n",
       "    <tr>\n",
       "      <th>95</th>\n",
       "      <td>115050</td>\n",
       "      <td>42.6457</td>\n",
       "      <td>13.2067</td>\n",
       "      <td>2016-10-18 10:07:49.440</td>\n",
       "      <td>[217.8995697862386, 288.89952755569266, 312.89...</td>\n",
       "    </tr>\n",
       "    <tr>\n",
       "      <th>96</th>\n",
       "      <td>115371</td>\n",
       "      <td>42.8022</td>\n",
       "      <td>13.1570</td>\n",
       "      <td>2016-10-18 13:26:58.240</td>\n",
       "      <td>[1290.4330116422107, 1335.4329694116648, 1324....</td>\n",
       "    </tr>\n",
       "    <tr>\n",
       "      <th>97</th>\n",
       "      <td>115933</td>\n",
       "      <td>42.7392</td>\n",
       "      <td>13.1932</td>\n",
       "      <td>2016-10-18 19:24:56.000</td>\n",
       "      <td>[-132.26304023871083, -165.26308246925677, -13...</td>\n",
       "    </tr>\n",
       "    <tr>\n",
       "      <th>98</th>\n",
       "      <td>116165</td>\n",
       "      <td>42.6102</td>\n",
       "      <td>13.2893</td>\n",
       "      <td>2016-10-18 21:29:05.900</td>\n",
       "      <td>[73.2805663264937, 62.280524095947754, 86.2804...</td>\n",
       "    </tr>\n",
       "    <tr>\n",
       "      <th>99</th>\n",
       "      <td>116400</td>\n",
       "      <td>42.8065</td>\n",
       "      <td>13.0890</td>\n",
       "      <td>2016-10-18 23:17:57.380</td>\n",
       "      <td>[-1382.3163352856698, -1367.3163775162157, -13...</td>\n",
       "    </tr>\n",
       "  </tbody>\n",
       "</table>\n",
       "<p>100 rows × 5 columns</p>\n",
       "</div>"
      ],
      "text/plain": [
       "   event_ID      lat      lon                   otime  \\\n",
       "0    100033  42.7940  13.2150 2016-10-13 00:12:15.130   \n",
       "1    100369  42.6878  13.2390 2016-10-13 02:23:57.850   \n",
       "2    100890  42.6380  13.2107 2016-10-13 06:17:15.350   \n",
       "3    101065  42.6965  13.1633 2016-10-13 07:48:10.250   \n",
       "4    101597  42.9422  13.1278 2016-10-13 12:51:22.310   \n",
       "..      ...      ...      ...                     ...   \n",
       "95   115050  42.6457  13.2067 2016-10-18 10:07:49.440   \n",
       "96   115371  42.8022  13.1570 2016-10-18 13:26:58.240   \n",
       "97   115933  42.7392  13.1932 2016-10-18 19:24:56.000   \n",
       "98   116165  42.6102  13.2893 2016-10-18 21:29:05.900   \n",
       "99   116400  42.8065  13.0890 2016-10-18 23:17:57.380   \n",
       "\n",
       "                                             waveform  \n",
       "0   [1524.3596168260733, 1583.3591904608486, 1539....  \n",
       "1   [854.4692663792318, 820.4688400140071, 862.468...  \n",
       "2   [260.67179135628203, 243.6713649910572, 258.67...  \n",
       "3   [662.0511884286011, 720.0507620633766, 674.050...  \n",
       "4   [-2575.7540207111306, -2623.754447076355, -252...  \n",
       "..                                                ...  \n",
       "95  [217.8995697862386, 288.89952755569266, 312.89...  \n",
       "96  [1290.4330116422107, 1335.4329694116648, 1324....  \n",
       "97  [-132.26304023871083, -165.26308246925677, -13...  \n",
       "98  [73.2805663264937, 62.280524095947754, 86.2804...  \n",
       "99  [-1382.3163352856698, -1367.3163775162157, -13...  \n",
       "\n",
       "[100 rows x 5 columns]"
      ]
     },
     "execution_count": 98,
     "metadata": {},
     "output_type": "execute_result"
    }
   ],
   "source": [
    "\n",
    "\n",
    "cat = pd.DataFrame({'event_ID':event_ids,\n",
    "                    'lat':lat,\n",
    "                    'lon':lon,\n",
    "                    'otime': otime})\n",
    "\n",
    "cat['event_ID'] = [f.decode('utf-8') for f in cat['event_ID']]\n",
    "\n",
    "\n",
    "cat['otime'] = [datetime.strptime(f.decode('utf-8'), '%Y-%m-%d %H:%M:%S.%f') for f in cat['otime']]\n",
    "cat['waveform'] = list(waveforms)\n",
    "\n",
    "cat"
   ]
  },
  {
   "cell_type": "markdown",
   "metadata": {},
   "source": [
    "## Create spectrograms\n",
    "\n",
    "### Set spectrogram parameters \n",
    "\n",
    "These parameters control spectrogram generation. Two parameters, fs (sampling rate) and len_data (number of samples of a waveform) depend on the data themselves. All waveforms must have the same number of samples. See https://docs.scipy.org/doc/scipy/reference/generated/scipy.signal.spectrogram.html for more information about the parameters."
   ]
  },
  {
   "cell_type": "code",
   "execution_count": 115,
   "metadata": {},
   "outputs": [],
   "source": [
    "# waveform parameters\n",
    "fs = 100 # Hz, sampling rate\n",
    "len_data = len(cat[\"waveform\"].iloc[0])\n",
    "\n",
    "# bandpass filter\n",
    "fMin = 5 # Hz\n",
    "fMax = 50 #Hz 150 orig\n",
    "\n",
    "# spectrogram parameters\n",
    "sgramMode='magnitude'\n",
    "sgramScaling='spectrum'\n",
    "\n",
    "# frequency/time resolution\n",
    "nperseg = 4\n",
    "noverlap = nperseg/4\n",
    "nfft = 512\n",
    "\n"
   ]
  },
  {
   "cell_type": "markdown",
   "metadata": {},
   "source": [
    "### Calculate spectrograms and convert to dB\n",
    "\n",
    "The NMF algorithm requires that all spectrograms contain nonnegative values. The following procedure normalizes each spectrogram individually and ensures element-wise nonnegativity.\n",
    "\n",
    "Calculate raw spectrograms using scipy:"
   ]
  },
  {
   "cell_type": "code",
   "execution_count": 116,
   "metadata": {},
   "outputs": [],
   "source": [
    "fSTFT, tSTFT, STFT_raw = sp.spectrogram(\n",
    "    x=np.stack(cat[\"waveform\"].values),\n",
    "    fs=fs,\n",
    "    nperseg=nperseg,\n",
    "    noverlap=noverlap,\n",
    "    nfft=nfft,\n",
    "    scaling=sgramScaling,\n",
    "    axis=-1,\n",
    "    mode=sgramMode\n",
    ")"
   ]
  },
  {
   "cell_type": "markdown",
   "metadata": {},
   "source": [
    "Quality check to see if any elements are NaN."
   ]
  },
  {
   "cell_type": "code",
   "execution_count": 117,
   "metadata": {},
   "outputs": [
    {
     "data": {
      "text/plain": [
       "False"
      ]
     },
     "execution_count": 117,
     "metadata": {},
     "output_type": "execute_result"
    }
   ],
   "source": [
    "np.isnan(STFT_raw).any()"
   ]
  },
  {
   "cell_type": "markdown",
   "metadata": {},
   "source": [
    "*Optional step*: Select a frequency band from the spectrograms\n",
    "\n",
    "Some applications benefit from discarding low and/or high frequency data from the spectrograms, e.g. if there is significant high frequency noise. The following applies a bandpass filter to the data in the frequency domain."
   ]
  },
  {
   "cell_type": "code",
   "execution_count": 118,
   "metadata": {},
   "outputs": [],
   "source": [
    "freq_slice = np.where((fSTFT >= fMin) & (fSTFT <= fMax))\n",
    "fSTFT   = fSTFT[freq_slice]\n",
    "STFT_0 = STFT_raw[:,freq_slice,:].squeeze()"
   ]
  },
  {
   "cell_type": "markdown",
   "metadata": {},
   "source": [
    "Next, we normalize each spectrogram by its median and convert to dB. This creates a matrix where about half of the nonzero entries are negative and half are positive. All of the negative entries are then set to zero, ensuring that the NMF algorithm has valid, nonnegative data. It also has the effect of throwing away half of the data, the half that is below the median dB value. "
   ]
  },
  {
   "cell_type": "code",
   "execution_count": 119,
   "metadata": {},
   "outputs": [
    {
     "data": {
      "text/html": [
       "<div>\n",
       "<style scoped>\n",
       "    .dataframe tbody tr th:only-of-type {\n",
       "        vertical-align: middle;\n",
       "    }\n",
       "\n",
       "    .dataframe tbody tr th {\n",
       "        vertical-align: top;\n",
       "    }\n",
       "\n",
       "    .dataframe thead th {\n",
       "        text-align: right;\n",
       "    }\n",
       "</style>\n",
       "<table border=\"1\" class=\"dataframe\">\n",
       "  <thead>\n",
       "    <tr style=\"text-align: right;\">\n",
       "      <th></th>\n",
       "      <th>event_ID</th>\n",
       "      <th>lat</th>\n",
       "      <th>lon</th>\n",
       "      <th>otime</th>\n",
       "      <th>waveform</th>\n",
       "      <th>stft</th>\n",
       "    </tr>\n",
       "  </thead>\n",
       "  <tbody>\n",
       "    <tr>\n",
       "      <th>0</th>\n",
       "      <td>100033</td>\n",
       "      <td>42.7940</td>\n",
       "      <td>13.2150</td>\n",
       "      <td>2016-10-13 00:12:15.130</td>\n",
       "      <td>[1524.3596168260733, 1583.3591904608486, 1539....</td>\n",
       "      <td>[[0.0, 0.0, 0.0, 0.0, 0.0, 0.0, 0.0, 0.0, 0.0,...</td>\n",
       "    </tr>\n",
       "    <tr>\n",
       "      <th>1</th>\n",
       "      <td>100369</td>\n",
       "      <td>42.6878</td>\n",
       "      <td>13.2390</td>\n",
       "      <td>2016-10-13 02:23:57.850</td>\n",
       "      <td>[854.4692663792318, 820.4688400140071, 862.468...</td>\n",
       "      <td>[[0.0, 0.0, 0.0, 0.0, 0.0, 0.0, 0.0, 0.0, 0.0,...</td>\n",
       "    </tr>\n",
       "    <tr>\n",
       "      <th>2</th>\n",
       "      <td>100890</td>\n",
       "      <td>42.6380</td>\n",
       "      <td>13.2107</td>\n",
       "      <td>2016-10-13 06:17:15.350</td>\n",
       "      <td>[260.67179135628203, 243.6713649910572, 258.67...</td>\n",
       "      <td>[[0.0, 0.0, 0.0, 0.0, 0.0, 0.0, 0.0, 0.0, 0.0,...</td>\n",
       "    </tr>\n",
       "    <tr>\n",
       "      <th>3</th>\n",
       "      <td>101065</td>\n",
       "      <td>42.6965</td>\n",
       "      <td>13.1633</td>\n",
       "      <td>2016-10-13 07:48:10.250</td>\n",
       "      <td>[662.0511884286011, 720.0507620633766, 674.050...</td>\n",
       "      <td>[[0.0, 0.0, 0.0, 0.0, 0.0, 0.0, 0.0, 0.0, 0.0,...</td>\n",
       "    </tr>\n",
       "    <tr>\n",
       "      <th>4</th>\n",
       "      <td>101597</td>\n",
       "      <td>42.9422</td>\n",
       "      <td>13.1278</td>\n",
       "      <td>2016-10-13 12:51:22.310</td>\n",
       "      <td>[-2575.7540207111306, -2623.754447076355, -252...</td>\n",
       "      <td>[[0.0, 0.0, 0.0, 0.0, 0.0, 0.0, 0.0, 0.0, 0.0,...</td>\n",
       "    </tr>\n",
       "  </tbody>\n",
       "</table>\n",
       "</div>"
      ],
      "text/plain": [
       "  event_ID      lat      lon                   otime  \\\n",
       "0   100033  42.7940  13.2150 2016-10-13 00:12:15.130   \n",
       "1   100369  42.6878  13.2390 2016-10-13 02:23:57.850   \n",
       "2   100890  42.6380  13.2107 2016-10-13 06:17:15.350   \n",
       "3   101065  42.6965  13.1633 2016-10-13 07:48:10.250   \n",
       "4   101597  42.9422  13.1278 2016-10-13 12:51:22.310   \n",
       "\n",
       "                                            waveform  \\\n",
       "0  [1524.3596168260733, 1583.3591904608486, 1539....   \n",
       "1  [854.4692663792318, 820.4688400140071, 862.468...   \n",
       "2  [260.67179135628203, 243.6713649910572, 258.67...   \n",
       "3  [662.0511884286011, 720.0507620633766, 674.050...   \n",
       "4  [-2575.7540207111306, -2623.754447076355, -252...   \n",
       "\n",
       "                                                stft  \n",
       "0  [[0.0, 0.0, 0.0, 0.0, 0.0, 0.0, 0.0, 0.0, 0.0,...  \n",
       "1  [[0.0, 0.0, 0.0, 0.0, 0.0, 0.0, 0.0, 0.0, 0.0,...  \n",
       "2  [[0.0, 0.0, 0.0, 0.0, 0.0, 0.0, 0.0, 0.0, 0.0,...  \n",
       "3  [[0.0, 0.0, 0.0, 0.0, 0.0, 0.0, 0.0, 0.0, 0.0,...  \n",
       "4  [[0.0, 0.0, 0.0, 0.0, 0.0, 0.0, 0.0, 0.0, 0.0,...  "
      ]
     },
     "execution_count": 119,
     "metadata": {},
     "output_type": "execute_result"
    }
   ],
   "source": [
    "normConstant = np.median(STFT_0, axis=(1,2))\n",
    "STFT_norm = STFT_0 / normConstant[:,np.newaxis,np.newaxis]  # norm by median\n",
    "del STFT_0\n",
    "STFT_dB = 20*np.log10(STFT_norm, where=STFT_norm != 0) # convert to dB\n",
    "del STFT_norm\n",
    "STFT = np.maximum(0, STFT_dB) # make sure nonnegative\n",
    "del STFT_dB\n",
    "\n",
    "cat[\"stft\"] = list(STFT)\n",
    "cat.head()"
   ]
  },
  {
   "cell_type": "markdown",
   "metadata": {},
   "source": [
    "Another quality check."
   ]
  },
  {
   "cell_type": "code",
   "execution_count": 120,
   "metadata": {},
   "outputs": [
    {
     "name": "stdout",
     "output_type": "stream",
     "text": [
      "Bad spectrograms: \n",
      "Series([], Name: event_ID, dtype: object)\n"
     ]
    }
   ],
   "source": [
    "bad_idx = cat[\"stft\"][cat[\"stft\"].apply(lambda x: np.isnan(x).any())].index\n",
    "print(f\"Bad spectrograms: \\n{cat.loc[bad_idx].event_ID}\")\n",
    "cat = cat.drop(bad_idx).sort_values(\"event_ID\")"
   ]
  },
  {
   "cell_type": "markdown",
   "metadata": {},
   "source": [
    "Plotted below is a raw spectrogram and its normalized counterpart. Notice how the overall dynamic range of spectrogram is compressed."
   ]
  },
  {
   "cell_type": "code",
   "execution_count": 121,
   "metadata": {},
   "outputs": [
    {
     "data": {
      "text/plain": [
       "Text(0.5, 1.0, 'Normalized spectrogram')"
      ]
     },
     "execution_count": 121,
     "metadata": {},
     "output_type": "execute_result"
    },
    {
     "data": {
      "image/png": "[encoded data removed]",
      "text/plain": [
       "<Figure size 1000x500 with 2 Axes>"
      ]
     },
     "metadata": {},
     "output_type": "display_data"
    }
   ],
   "source": [
    "n_spectrogram = 0 # index of spectrogram to plot\n",
    "\n",
    "f, ax = plt.subplots(1,2, figsize=(10,5))\n",
    "\n",
    "ax[0].pcolormesh(tSTFT,fSTFT,STFT_raw[n_spectrogram,freq_slice,:].squeeze())\n",
    "ax[0].set_xlabel(\"Timestep\")\n",
    "ax[0].set_ylabel(\"Frequency (Hz)\")\n",
    "ax[0].set_title(\"Original spectrogram\")\n",
    "\n",
    "ax[1].pcolormesh(tSTFT,fSTFT, STFT[n_spectrogram])\n",
    "ax[1].set_xlabel(\"Timestep\")\n",
    "ax[1].set_title(\"Normalized spectrogram\")\n"
   ]
  },
  {
   "cell_type": "markdown",
   "metadata": {},
   "source": [
    "# Run specufex"
   ]
  },
  {
   "cell_type": "markdown",
   "metadata": {},
   "source": [
    "## Fitting models and transforming data\n",
    "\n",
    "SpecUFEx fits a group of spectrograms, where D is the number of rows (frequency bands) and M is the number of columns (timesteps) in each spectrogram. The spectrograms must be in a numpy-compatible matrix of dimension, N being the number of spectrograms in the dataset. Each spectrogram must consist of all nonnegative (>=0) entries\n",
    "\n",
    "The two main classes in this package are `BayesianNonparametricNMF` and `BayesianHMM`. Each has fit, transform, and fit_transform methods to be consistent with the Scikit-learn API style.\n",
    "\n",
    "### Probabilistic nonegative matrix factorization\n",
    "\n",
    "The first step in the specufex algorithm is to decompose the set of spectrograms into a single, common \"dictionary\" matrix and a set of \"activation matrices\", one for each spectrogram. The `BayesianNonParametricNMF` class implements a probabilistic hierarchical Bayesian model for estimating this decomposition.\n",
    "\n",
    "First instantiate the nmf model. The constructor takes a tuple with the dimensions of the spectrogram matrix."
   ]
  },
  {
   "cell_type": "code",
   "execution_count": 122,
   "metadata": {},
   "outputs": [],
   "source": [
    "nmf = BayesianNonparametricNMF(np.stack(cat[\"stft\"].values).shape)"
   ]
  },
  {
   "cell_type": "markdown",
   "metadata": {},
   "source": [
    "The model is fit in a loop. In our case, we use 100,000 batches with batch size of 1."
   ]
  },
  {
   "cell_type": "code",
   "execution_count": null,
   "metadata": {},
   "outputs": [
    {
     "name": "stderr",
     "output_type": "stream",
     "text": [
      "NMF fit progress :  24%|██▏      | 24/100 [00:27<01:19,  1.05s/it, Patterns: 75]"
     ]
    }
   ],
   "source": [
    "batches = 100\n",
    "batch_size = 1\n",
    "\n",
    "t = trange(batches, desc=\"NMF fit progress \", leave=True)\n",
    "for i in t:\n",
    "    idx = np.random.randint(len(cat[\"stft\"].values), size=batch_size)\n",
    "    nmf.fit(cat[\"stft\"].iloc[idx].values)\n",
    "    t.set_postfix_str(f\"Patterns: {nmf.num_pat}\")"
   ]
  },
  {
   "cell_type": "markdown",
   "metadata": {},
   "source": [
    "The estimated dictionary matrix is plotted below."
   ]
  },
  {
   "cell_type": "code",
   "execution_count": null,
   "metadata": {},
   "outputs": [],
   "source": [
    "plt.pcolormesh(nmf.EW@np.diag(nmf.EA[0]))\n",
    "plt.xlabel(\"NMF pattern number\")\n",
    "plt.xticks(range(0,nmf.num_pat,2), range(0,nmf.num_pat,2))\n",
    "plt.ylabel(\"Frequency (Hz)\")\n",
    "plt.show()"
   ]
  },
  {
   "cell_type": "markdown",
   "metadata": {},
   "source": [
    "Next, the `transform` method of the` BayesianNonparametricNMF` class is used to find the activation matrices, Vs, for each spectrogram."
   ]
  },
  {
   "cell_type": "code",
   "execution_count": null,
   "metadata": {},
   "outputs": [],
   "source": [
    "Vs = nmf.transform(cat[\"stft\"].values)\n",
    "# save Vs to an hdf5\n",
    "with h5py.File(\"data/geysers/Vs.h5\", \"w\") as f:\n",
    "    f[\"Vs\"] = Vs\n"
   ]
  },
  {
   "cell_type": "markdown",
   "metadata": {},
   "source": [
    "Here is an example activation matrix, plotted with the corresponding original normalized matrix."
   ]
  },
  {
   "cell_type": "code",
   "execution_count": null,
   "metadata": {},
   "outputs": [],
   "source": [
    "f, axes = plt.subplots(1,2,figsize=(15,5))\n",
    "\n",
    "axes[0].pcolormesh(Vs[0])\n",
    "axes[0].set_xlabel(\"Timestep\")\n",
    "axes[0].set_ylabel(\"NMF pattern\")\n",
    "axes[0].set_yticks(range(0,nmf.num_pat,2), range(0,nmf.num_pat,2))\n",
    "axes[0].set_title(\"Activation matrix\")\n",
    "\n",
    "axes[1].pcolormesh(cat[\"stft\"].iloc[0])\n",
    "axes[1].set_xlabel(\"Timestep\")\n",
    "axes[1].set_ylabel(\"Frequency\")\n",
    "axes[1].set_title(\"Normalized spectrogram\")\n",
    "\n",
    "plt.show()"
   ]
  },
  {
   "cell_type": "markdown",
   "metadata": {},
   "source": [
    "### Probabilistic Hidden Markov Model"
   ]
  },
  {
   "cell_type": "markdown",
   "metadata": {},
   "source": [
    "A hidden Markov model describes a system where a sequence of observations is produced by hidden, or unobservable, states. In our case, the frequency components of each timestep in a spectrogram is assumed to be emitted with a particular probability by one of the hidden states. The code fits an HMM model to the spectrograms, and for each timestep calculates the most probable hidden state that produced the frequency pattern.\n",
    "\n",
    "The HMM model is created using the `BayesianHMM` class. Currently, in order to setup the object correctly the number of NMF patterns (num_pat) and the gain calculated by `BayesianNonparametricNMF` are passed to the constructor. Similar to the NMF calculation, the data are transformed to fingerprints with the transform function."
   ]
  },
  {
   "cell_type": "code",
   "execution_count": null,
   "metadata": {},
   "outputs": [],
   "source": [
    "#nmf = BayesianNonparametricNMF.load(\"data/geysers/nmf.h5\")\n",
    "\n",
    "num_states = 8\n",
    "hmm = BayesianHMM(nmf.num_pat, nmf.gain, num_state=num_states, Neff=500)"
   ]
  },
  {
   "cell_type": "code",
   "execution_count": null,
   "metadata": {},
   "outputs": [],
   "source": [
    "batches = 500\n",
    "t = trange(batches, desc=\"HMM fit progress \", leave=True)\n",
    "for i in t:\n",
    "    idx = np.random.randint(Vs.shape[0], size=1)\n",
    "    hmm.fit(Vs[idx])\n"
   ]
  },
  {
   "cell_type": "markdown",
   "metadata": {},
   "source": [
    "The *emmission matrix* of the HMM relates the hidden state to the expected value of each frequency emitted by that state. Below is the calculated emmissions matrix for our model."
   ]
  },
  {
   "cell_type": "code",
   "execution_count": null,
   "metadata": {},
   "outputs": [],
   "source": [
    "plt.figure(figsize=(10,5))\n",
    "plt.imshow(hmm.EB, origin=\"lower\")\n",
    "plt.ylabel(\"HMM state\")\n",
    "plt.xlabel(\"Frequency pattern\")\n",
    "_=plt.yticks(range(0,num_states,5), range(0, num_states,5))"
   ]
  },
  {
   "cell_type": "markdown",
   "metadata": {},
   "source": [
    "Next step is to calculate the \"fingerprints\", which are the final features calculated by the SpecUFEx algorithm. ?The fingerprints are a statistical representation of how likely each state transition is for each individual spectrogram.\n",
    "\n",
    "Below, the `.transform()` method is used to calculate the fingerprints. It also returns a state transition count matrix (`As`) and the state sequence matrix (`gams`)."
   ]
  },
  {
   "cell_type": "code",
   "execution_count": null,
   "metadata": {},
   "outputs": [],
   "source": [
    "fingerprints, As, gams = hmm.transform(Vs)"
   ]
  },
  {
   "cell_type": "markdown",
   "metadata": {},
   "source": [
    "Example of a fingerprint. Each entry in the matrix is the probability that, for the corresponding spectrogram, a given state transitions to another state."
   ]
  },
  {
   "cell_type": "code",
   "execution_count": null,
   "metadata": {},
   "outputs": [],
   "source": [
    "plt.imshow(fingerprints[0])"
   ]
  },
  {
   "cell_type": "markdown",
   "metadata": {},
   "source": [
    "And this is the state transition matrix. This is the actual temporal order of probabilities that the system was in a given state when it emitted the frequencies."
   ]
  },
  {
   "cell_type": "code",
   "execution_count": null,
   "metadata": {},
   "outputs": [],
   "source": [
    "plt.pcolormesh(gams[0])\n",
    "plt.xlabel(\"Time step\")\n",
    "plt.ylabel(\"Hidden State\")\n",
    "plt.show()"
   ]
  },
  {
   "cell_type": "markdown",
   "metadata": {},
   "source": [
    "# Cluster fingerprints with Kmeans\n",
    "\n",
    "The SpecUFEx procedure reduces a set of waveforms/spectrograms to a set of feature matrices. These features can then be used as input to a machine learning algorithm. In this example, we use the features for unsupervised clustering of similar fingerprints.\n"
   ]
  },
  {
   "cell_type": "code",
   "execution_count": null,
   "metadata": {},
   "outputs": [],
   "source": [
    "# convert fingerprints from 2D array to 1D array\n",
    "fingerprints_ = fingerprints.reshape((fingerprints.shape[0], fingerprints.shape[1]**2))\n",
    "\n",
    "#Predicted labels\n",
    "K=4 # number of clusters to fit\n",
    "y_pred = KMeans(n_clusters=K, random_state=42).fit_predict(fingerprints_)"
   ]
  },
  {
   "cell_type": "markdown",
   "metadata": {},
   "source": [
    "# Plot clusters over time (2012-2014)\n"
   ]
  },
  {
   "cell_type": "markdown",
   "metadata": {},
   "source": [
    "We now compare the clusters from our fit to the results from the reference above. The following code plots the frequency of earthquakes in each cluster over time."
   ]
  },
  {
   "cell_type": "code",
   "execution_count": null,
   "metadata": {},
   "outputs": [],
   "source": [
    "cat['cluster'] = y_pred"
   ]
  },
  {
   "cell_type": "code",
   "execution_count": null,
   "metadata": {},
   "outputs": [],
   "source": [
    "\n",
    "\n",
    "plt.scatter(cat.lon, cat.lat, c=cat.cluster,label='Cluster')"
   ]
  },
  {
   "cell_type": "code",
   "execution_count": null,
   "metadata": {},
   "outputs": [],
   "source": []
  },
  {
   "cell_type": "code",
   "execution_count": 74,
   "metadata": {},
   "outputs": [
    {
     "name": "stderr",
     "output_type": "stream",
     "text": [
      "/var/folders/tg/19dx30mj7bx0vw7hn2lf3j440000gn/T/ipykernel_16850/2062598194.py:33: FutureWarning: 'M' is deprecated and will be removed in a future version, please use 'ME' instead.\n",
      "  barHeights = clus_events.resample(timeBin).Cluster.count()\n",
      "/var/folders/tg/19dx30mj7bx0vw7hn2lf3j440000gn/T/ipykernel_16850/2062598194.py:36: FutureWarning: 'M' is deprecated and will be removed in a future version, please use 'ME' instead.\n",
      "  startFill = pd.date_range(start=df.index[0], end=barHeights.index[0], freq=timeBin)\n",
      "/var/folders/tg/19dx30mj7bx0vw7hn2lf3j440000gn/T/ipykernel_16850/2062598194.py:37: FutureWarning: 'M' is deprecated and will be removed in a future version, please use 'ME' instead.\n",
      "  endFill = pd.date_range(start=barHeights.index[-1], end=df.index[-1], freq=timeBin)\n"
     ]
    }
   ],
   "source": [
    "# date_list = []\n",
    "# for otime in cat[\"otime\"]:\n",
    "\n",
    "#     name = name.split('/')[-1]\n",
    "#     doy = int(name[19:22])\n",
    "#     year = int(name[14:18])\n",
    "\n",
    "#     date = pd.Timestamp(datetime.datetime(year, 1, 1)+ pd.DateOffset(doy-1))\n",
    "\n",
    "#     date_list.append(date)\n",
    "date_list = cat[\"otime\"]\n",
    "df = pd.DataFrame(fingerprints_)\n",
    "df['Date'] = date_list\n",
    "df['Date_index'] = date_list\n",
    "df['Cluster'] = y_pred\n",
    "df.set_index(\"Date_index\",inplace=True)\n",
    "\n",
    "\n",
    "timeBin=\"M\" #calculate number of events per month\n",
    "barWidth=.1\n",
    "\n",
    "\n",
    "barHeightsPadList = []\n",
    "barHeightsPadListNorm = []\n",
    "\n",
    "\n",
    "normBars = 1 # normalize colors by cluster maximum\n",
    "\n",
    "for k in range(K):\n",
    "\n",
    "    clus_events = df[df.Cluster == k]\n",
    "\n",
    "    barHeights = clus_events.resample(timeBin).Cluster.count()\n",
    "\n",
    "    ## pad bars if they start in later months or end in earlier months\n",
    "    startFill = pd.date_range(start=df.index[0], end=barHeights.index[0], freq=timeBin)\n",
    "    endFill = pd.date_range(start=barHeights.index[-1], end=df.index[-1], freq=timeBin)\n",
    "    startFillZ = np.zeros(len(startFill),dtype='int64')\n",
    "    endFillZ = np.zeros(len(endFill),dtype='int64')\n",
    "    barHeightsPad = np.hstack([startFillZ,barHeights])\n",
    "    barHeightsPad = np.hstack([barHeightsPad,endFillZ])\n",
    "    barHeightsPadNorm = barHeightsPad / np.max(barHeightsPad)\n",
    "\n",
    "    barHeightsPadList.append(barHeightsPad)\n",
    "    barHeightsPadListNorm.append(barHeightsPadNorm)\n",
    "\n",
    "\n",
    "\n",
    "barHeights_ar = np.array(barHeightsPadList)\n",
    "barHeights_arNorm = np.array(barHeightsPadListNorm)"
   ]
  },
  {
   "cell_type": "markdown",
   "metadata": {},
   "source": [
    "### Compare to Figure 3c from Holtzman et al., 2018"
   ]
  },
  {
   "cell_type": "code",
   "execution_count": 76,
   "metadata": {},
   "outputs": [
    {
     "data": {
      "image/png": "[encoded data removed]",
      "text/plain": [
       "<Figure size 1400x500 with 3 Axes>"
      ]
     },
     "metadata": {},
     "output_type": "display_data"
    }
   ],
   "source": [
    "f, axes = plt.subplots(1,2,figsize=(14,5))\n",
    "sns.heatmap(barHeights_ar,\n",
    "            cmap=cm.YlOrRd,\n",
    "            vmin = 0, #Values to anchor the colormap, otherwise they are inferred from the data and other keyword arguments.\n",
    "            vmax = np.max(barHeightsPadList),\n",
    "            square=False,\n",
    "            ax=axes[0])\n",
    "\n",
    "# axes[0].set_ylabel('Observations \\n per hour',labelpad=4)\n",
    "# axes[0].set_yticks([0.5,1.5,2.5,3.5])\n",
    "# axes[0].set_yticklabels(['1','2','3','4'])\n",
    "# axes[0].set_ylabel('Cluster')\n",
    "# axes[0].set_xlabel('Time (months since Jan 2012)')\n",
    "\n",
    "# im = plt.imread(\"./figures/holtzman2018_figure.png\")\n",
    "# #plt.figure(figsize=(10,10))\n",
    "# axes[1].imshow(im)\n",
    "# axes[1].set_aspect('auto')\n",
    "\n",
    "plt.tight_layout()\n",
    "plt.axis('off');"
   ]
  },
  {
   "cell_type": "markdown",
   "metadata": {},
   "source": [
    "Not too bad! Do note that the clusters are assigned numbers randomly - one cluster that we calculated may correspond to a different cluster number in the figure. Also, the algorithm is probabilistic, so the results won't be perfectly similar, and different runs with the same parameters may produce slightly different results."
   ]
  },
  {
   "cell_type": "code",
   "execution_count": 77,
   "metadata": {},
   "outputs": [
    {
     "data": {
      "text/plain": [
       "array([[35],\n",
       "       [46],\n",
       "       [10],\n",
       "       [ 9]])"
      ]
     },
     "execution_count": 77,
     "metadata": {},
     "output_type": "execute_result"
    }
   ],
   "source": [
    "barHeights_ar"
   ]
  },
  {
   "cell_type": "code",
   "execution_count": null,
   "metadata": {},
   "outputs": [],
   "source": []
  }
 ],
 "metadata": {
  "kernelspec": {
   "display_name": "Python 3 (ipykernel)",
   "language": "python",
   "name": "python3"
  },
  "language_info": {
   "codemirror_mode": {
    "name": "ipython",
    "version": 3
   },
   "file_extension": ".py",
   "mimetype": "text/x-python",
   "name": "python",
   "nbconvert_exporter": "python",
   "pygments_lexer": "ipython3",
   "version": "3.10.14"
  },
  "vscode": {
   "interpreter": {
    "hash": "0db4341afdbb694f928ba6767d28b8cd7dd6069fd3e595f0e9976952f73b8382"
   }
  }
 },
 "nbformat": 4,
 "nbformat_minor": 4
}
